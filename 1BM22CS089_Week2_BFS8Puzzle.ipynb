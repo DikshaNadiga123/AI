{
  "nbformat": 4,
  "nbformat_minor": 0,
  "metadata": {
    "colab": {
      "provenance": [],
      "authorship_tag": "ABX9TyMsga7rTmKIDiQEiUJrQOtr",
      "include_colab_link": true
    },
    "kernelspec": {
      "name": "python3",
      "display_name": "Python 3"
    },
    "language_info": {
      "name": "python"
    }
  },
  "cells": [
    {
      "cell_type": "markdown",
      "metadata": {
        "id": "view-in-github",
        "colab_type": "text"
      },
      "source": [
        "<a href=\"https://colab.research.google.com/github/DikshaNadiga123/AI/blob/main/BFS8Puzzle.ipynb\" target=\"_parent\"><img src=\"https://colab.research.google.com/assets/colab-badge.svg\" alt=\"Open In Colab\"/></a>"
      ]
    },
    {
      "cell_type": "code",
      "execution_count": 1,
      "metadata": {
        "colab": {
          "base_uri": "https://localhost:8080/"
        },
        "id": "qfMuNbUht2eZ",
        "outputId": "cca6ac6e-4d7e-4ef1-8b1e-6ac992b34286"
      },
      "outputs": [
        {
          "output_type": "stream",
          "name": "stdout",
          "text": [
            "Current State:\n",
            "[1, 2, 3]\n",
            "[4, 5, 6]\n",
            "[7, 0, 8]\n",
            "\n",
            "\n",
            "Current State:\n",
            "[1, 2, 3]\n",
            "[4, 0, 6]\n",
            "[7, 5, 8]\n",
            "\n",
            "\n",
            "Current State:\n",
            "[1, 2, 3]\n",
            "[4, 5, 6]\n",
            "[0, 7, 8]\n",
            "\n",
            "\n",
            "Current State:\n",
            "[1, 2, 3]\n",
            "[4, 5, 6]\n",
            "[7, 8, 0]\n",
            "\n",
            "\n",
            "Goal reached!\n",
            "BFS Path to Solution:\n",
            "[1, 2, 3]\n",
            "[4, 5, 6]\n",
            "[7, 0, 8]\n",
            "\n",
            "\n",
            "[1, 2, 3]\n",
            "[4, 5, 6]\n",
            "[7, 8, 0]\n",
            "\n",
            "\n"
          ]
        }
      ],
      "source": [
        "from collections import deque\n",
        "def print_puzzle(state):\n",
        "    for i in range(0, len(state), 3):\n",
        "        print(state[i:i+3])\n",
        "    print(\"\\n\")\n",
        "def find_blank(state):\n",
        "    return state.index(0)\n",
        "\n",
        "def is_goal(state, goal):\n",
        "    return state == goal\n",
        "\n",
        "def get_neighbors(state):\n",
        "    neighbors = []\n",
        "    blank_pos = find_blank(state)\n",
        "\n",
        "    moves = {\n",
        "        'up': -3,\n",
        "        'down': 3,\n",
        "        'left': -1,\n",
        "        'right': 1\n",
        "    }\n",
        "\n",
        "    for direction, move in moves.items():\n",
        "        new_pos = blank_pos + move\n",
        "\n",
        "\n",
        "        if direction == 'left' and blank_pos % 3 == 0:\n",
        "            continue\n",
        "        if direction == 'right' and blank_pos % 3 == 2:\n",
        "            continue\n",
        "        if 0 <= new_pos < len(state):\n",
        "            new_state = state[:]\n",
        "            new_state[blank_pos], new_state[new_pos] = new_state[new_pos], new_state[blank_pos]\n",
        "            neighbors.append(new_state)\n",
        "\n",
        "    return neighbors\n",
        "def bfs(start, goal):\n",
        "    queue = deque([start])\n",
        "    visited = set([tuple(start)])\n",
        "    parent = {tuple(start): None}\n",
        "\n",
        "    while queue:\n",
        "        current = queue.popleft()\n",
        "\n",
        "        print(\"Current State:\")\n",
        "        print_puzzle(current)\n",
        "\n",
        "        if is_goal(current, goal):\n",
        "            print(\"Goal reached!\")\n",
        "            return reconstruct_path(parent, current)\n",
        "\n",
        "        for neighbor in get_neighbors(current):\n",
        "            if tuple(neighbor) not in visited:\n",
        "                visited.add(tuple(neighbor))\n",
        "                parent[tuple(neighbor)] = current\n",
        "                queue.append(neighbor)\n",
        "\n",
        "    return None\n",
        "\n",
        "def reconstruct_path(parent, current):\n",
        "    path = []\n",
        "    while current:\n",
        "        path.append(current)\n",
        "        current = parent[tuple(current)]\n",
        "    path.reverse()\n",
        "    return path\n",
        "\n",
        "\n",
        "start_state = [1, 2, 3, 4, 5, 6, 7, 0, 8]\n",
        "goal_state = [1, 2, 3, 4, 5, 6, 7, 8, 0]\n",
        "\n",
        "path_bfs = bfs(start_state, goal_state)\n",
        "\n",
        "print(\"BFS Path to Solution:\")\n",
        "if path_bfs:\n",
        "    for step in path_bfs:\n",
        "        print_puzzle(step)"
      ]
    }
  ]
}
